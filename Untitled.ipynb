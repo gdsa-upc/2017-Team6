{
 "cells": [
  {
   "cell_type": "code",
   "execution_count": null,
   "metadata": {
    "collapsed": true
   },
   "outputs": [],
   "source": [
    "import os,sys\n",
    "import pandas as pd\n",
    "import numpy as np\n",
    "\n",
    "def get_params():\n",
    "\n",
    "    '''\n",
    "    Define dictionary with parameters\n",
    "    '''\n",
    "    params = {}\n",
    "\n",
    "    params['src'] = 'C:\\Users\\Roger\\Desktop\\Sessio 4'\n",
    "\n",
    "    # Source data\n",
    "    params['root'] = 'C:\\Users\\Roger\\Desktop\\Sessio 4'\n",
    "    params['database'] = 'TB2016'"
   ]
  },
  {
   "cell_type": "markdown",
   "metadata": {},
   "source": [
    "# "
   ]
  },
  {
   "cell_type": "code",
   "execution_count": null,
   "metadata": {
    "collapsed": true
   },
   "outputs": [],
   "source": []
  }
 ],
 "metadata": {
  "kernelspec": {
   "display_name": "Python 2",
   "language": "python",
   "name": "python2"
  },
  "language_info": {
   "codemirror_mode": {
    "name": "ipython",
    "version": 2
   },
   "file_extension": ".py",
   "mimetype": "text/x-python",
   "name": "python",
   "nbconvert_exporter": "python",
   "pygments_lexer": "ipython2",
   "version": "2.7.14"
  }
 },
 "nbformat": 4,
 "nbformat_minor": 2
}
