{
 "cells": [
  {
   "cell_type": "code",
   "execution_count": 1,
   "metadata": {},
   "outputs": [
    {
     "ename": "SyntaxError",
     "evalue": "invalid syntax (<ipython-input-1-a78e322aabb0>, line 15)",
     "output_type": "error",
     "traceback": [
      "\u001b[0;36m  File \u001b[0;32m\"<ipython-input-1-a78e322aabb0>\"\u001b[0;36m, line \u001b[0;32m15\u001b[0m\n\u001b[0;31m    print len(kp)\u001b[0m\n\u001b[0m            ^\u001b[0m\n\u001b[0;31mSyntaxError\u001b[0m\u001b[0;31m:\u001b[0m invalid syntax\n"
     ]
    }
   ],
   "source": [
    "# -*- coding: utf-8 -*-\n",
    "import numpy as np\n",
    "import cv2\n",
    "import matplotlib.pyplot as plt\n",
    "import os\n",
    "# plot vermell\n",
    "\n",
    "\n",
    "ruta=os.path.dirname(os.path.abspath(__file__))\n",
    "img=cv2.imread(ruta+'/Users/Dani_Retamosa/Downloads/PROJECTE/castell cartoixa Terrassa/castell_101.jpeg',1)\n",
    "surf=cv2.SURF(4000)\n",
    "kp,des=surf.detectAndCompute(img, None) \n",
    "img2=cv2.drawKeypoints(img, kp, None, (255,0,0), 4)\n",
    "plt.imshow(img2),plt.show()\n",
    "print len(kp)"
   ]
  },
  {
   "cell_type": "code",
   "execution_count": null,
   "metadata": {},
   "outputs": [],
   "source": []
  }
 ],
 "metadata": {
  "kernelspec": {
   "display_name": "Python 3",
   "language": "python",
   "name": "python3"
  },
  "language_info": {
   "codemirror_mode": {
    "name": "ipython",
    "version": 3
   },
   "file_extension": ".py",
   "mimetype": "text/x-python",
   "name": "python",
   "nbconvert_exporter": "python",
   "pygments_lexer": "ipython3",
   "version": "3.5.2"
  }
 },
 "nbformat": 4,
 "nbformat_minor": 2
}
