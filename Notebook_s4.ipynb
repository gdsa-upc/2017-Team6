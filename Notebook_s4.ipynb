{
 "cells": [
  {
   "cell_type": "markdown",
   "metadata": {},
   "source": [
    "Importem les llibreries numpy, pandas. I creem la configuració params."
   ]
  },
  {
   "cell_type": "code",
   "execution_count": null,
   "metadata": {
    "collapsed": true
   },
   "outputs": [],
   "source": [
    "import os,sys\n",
    "import pandas as pd\n",
    "import numpy as np\n",
    "\n",
    "def get_params():\n",
    "\n",
    "    '''\n",
    "    Define dictionary with parameters\n",
    "    '''\n",
    "    params = {}\n",
    "\n",
    "    params['src'] = 'C:\\Users\\Roger\\Desktop\\Sessio 4'\n",
    "\n",
    "    # Source data\n",
    "    params['root'] = 'C:\\Users\\Roger\\Desktop\\Sessio 4'\n",
    "    params['database'] = 'TB2016'"
   ]
  },
  {
   "cell_type": "markdown",
   "metadata": {},
   "source": [
    "Mostrem una part de la configuració params on es defineix la mida i tipus dels desciptors, el detector de punts clau i el redimensionament de la imatge (màxim de 500)."
   ]
  },
  {
   "cell_type": "code",
   "execution_count": null,
   "metadata": {
    "collapsed": true
   },
   "outputs": [],
   "source": [
    "    # Parameters\n",
    "    params['split'] = 'val'\n",
    "    params['descriptor_size'] = 1024 # Number of clusters\n",
    "    params['descriptor_type'] = 'SIFT'\n",
    "    params['keypoint_type'] = 'SIFT'\n",
    "    params['max_size'] = 500 # Widht size\n",
    "    params['distance_type'] = 'euclidean'"
   ]
  },
  {
   "cell_type": "markdown",
   "metadata": {},
   "source": [
    "A la funció build_database importem els paràmetres anteriors (params) i creem la base de dades a partir dels noms de les imatges."
   ]
  },
  {
   "cell_type": "code",
   "execution_count": null,
   "metadata": {
    "collapsed": true
   },
   "outputs": [],
   "source": [
    "import os\n",
    "from params import get_params\n",
    "\n",
    "def build_database(params):\n",
    "\n",
    "    # List images\n",
    "    image_names = os.listdir(os.path.join(params['root'],params['database'],params['split'],'images'))\n",
    "\n",
    "    # File to be saved\n",
    "    file = open(os.path.join(params['root'],params['root_save'],params['image_lists'],params['split'] + '.txt'),'w')\n",
    "     \n",
    "    # Save image list to disk\n",
    "    for imname in image_names:\n",
    "        file.write(imname + \"\\n\")\n",
    "    file.close()"
   ]
  },
  {
   "cell_type": "markdown",
   "metadata": {},
   "source": []
  },
  {
   "cell_type": "code",
   "execution_count": null,
   "metadata": {
    "collapsed": true
   },
   "outputs": [],
   "source": [
    "from params import get_params\n",
    "import sys\n",
    "\n",
    "# We need to add the source code path to the python path if we want to call modules such as 'utils'\n",
    "params = get_params()\n",
    "sys.path.insert(0,params['src'])\n",
    "\n",
    "from rootsift import RootSIFT #utils.rootsift import RootSIFT\n",
    "import os, time\n",
    "import numpy as np\n",
    "import pickle\n",
    "import cv2\n",
    "from sklearn.cluster import MiniBatchKMeans\n",
    "from sklearn.preprocessing import normalize, StandardScaler\n",
    "from sklearn.decomposition import PCA\n",
    "import warnings\n",
    "warnings.filterwarnings(\"ignore\")\n",
    "\n",
    "\n",
    "def get_features(params,pca=None,scaler=None):\n",
    "\n",
    "    #Llegeix el nom de les imatges\n",
    "    #Inicialitza el detector de punts i crea un diccionari\n",
    "    #Crea el codebook de les imatges de train\n",
    "    #Guarda el diccionari al disc de l'ordinador en un únic nom\n",
    "\n",
    "def resize_image(params,im):\n",
    "\n",
    "    #Redimensiona la imatge a partir dels parametres (params)\n",
    "\n",
    "def image_local_features(im,detector,extractor):\n",
    "    \n",
    "    #Retorna els descriptors de la imatge\n",
    "\n",
    "def init_detect_extract(params):\n",
    "\n",
    "    #Inicialitza els detectors i extractors de params\n",
    "    \n",
    "def stack_features(params):\n",
    "    \n",
    "    #Extreu els descriptors de la imatge\n",
    "    \n",
    "def train_codebook(params,X):\n",
    "\n",
    "    #Per entrenar el codebook, utilitzem MiniBatchKmeans en lloc d'utilitzar la classe KMeans de scikit-learn,\n",
    "    #ja que va molt més rapid quan s'ha de calcular grans quantitats de dades\n",
    "\n",
    "def get_assignments(km,descriptors):\n",
    "\n",
    "    #Assigna els descriptors\n",
    "\n",
    "def bow(assignments,km):\n",
    "\n",
    "    #Crea el BoW\n"
   ]
  },
  {
   "cell_type": "markdown",
   "metadata": {},
   "source": [
    "Un cop tenint tot això, fem el ranking. Aquets troba les distàncies entre els descriptors de les imatges de validació totes les d'entranament. Aquestes distàncies es guarden a una llista ordenada. I aquesta et dóna el ranking de similitud entre imatges."
   ]
  },
  {
   "cell_type": "code",
   "execution_count": null,
   "metadata": {
    "collapsed": true
   },
   "outputs": [],
   "source": [
    "import os\n",
    "import pickle\n",
    "import numpy as np\n",
    "from params import get_params\n",
    "from sklearn.metrics.pairwise import pairwise_distances\n",
    "\n",
    "def rank(params):\n",
    "    #Carrega els diccionaris de train, val i test\n",
    "    #Crea un un fitxer text per a cada imatge on hi posa un rànking de més similitud a menys"
   ]
  }
 ],
 "metadata": {
  "kernelspec": {
   "display_name": "Python 2",
   "language": "python",
   "name": "python2"
  },
  "language_info": {
   "codemirror_mode": {
    "name": "ipython",
    "version": 2
   },
   "file_extension": ".py",
   "mimetype": "text/x-python",
   "name": "python",
   "nbconvert_exporter": "python",
   "pygments_lexer": "ipython2",
   "version": "2.7.14"
  }
 },
 "nbformat": 4,
 "nbformat_minor": 2
}
